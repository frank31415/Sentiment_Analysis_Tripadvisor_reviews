{
 "cells": [
  {
   "cell_type": "markdown",
   "metadata": {},
   "source": [
    "The goal is to train a machine learning model to perform sentiment analysis on Tripadvisor reviews (data from https://www.kaggle.com/datasets/andrewmvd/trip-advisor-hotel-reviews). \n",
    "A review with 4 or 5 stars is considered positive, 3 stars means neutral and 1 or 2 stars is considered negative."
   ]
  },
  {
   "cell_type": "code",
   "execution_count": 1,
   "metadata": {},
   "outputs": [],
   "source": [
    "import warnings\n",
    "warnings.filterwarnings('ignore')\n",
    "\n",
    "import nltk\n",
    "\n",
    "import numpy as np\n",
    "import pandas as pd\n",
    "import seaborn as sns\n",
    "import matplotlib.pyplot as plt\n",
    "\n",
    "from sklearn.model_selection import train_test_split\n",
    "from nltk.tokenize import word_tokenize\n",
    "import re\n",
    "from sklearn.feature_extraction.text import TfidfVectorizer\n",
    "\n",
    "import tensorflow as tf"
   ]
  },
  {
   "cell_type": "code",
   "execution_count": 2,
   "metadata": {},
   "outputs": [],
   "source": [
    "df = pd.read_csv(\"tripadvisor_hotel_reviews.csv\")"
   ]
  },
  {
   "cell_type": "code",
   "execution_count": 3,
   "metadata": {},
   "outputs": [
    {
     "data": {
      "text/html": [
       "<div>\n",
       "<style scoped>\n",
       "    .dataframe tbody tr th:only-of-type {\n",
       "        vertical-align: middle;\n",
       "    }\n",
       "\n",
       "    .dataframe tbody tr th {\n",
       "        vertical-align: top;\n",
       "    }\n",
       "\n",
       "    .dataframe thead th {\n",
       "        text-align: right;\n",
       "    }\n",
       "</style>\n",
       "<table border=\"1\" class=\"dataframe\">\n",
       "  <thead>\n",
       "    <tr style=\"text-align: right;\">\n",
       "      <th></th>\n",
       "      <th>Review</th>\n",
       "      <th>Rating</th>\n",
       "    </tr>\n",
       "  </thead>\n",
       "  <tbody>\n",
       "    <tr>\n",
       "      <th>0</th>\n",
       "      <td>nice hotel expensive parking got good deal sta...</td>\n",
       "      <td>4</td>\n",
       "    </tr>\n",
       "    <tr>\n",
       "      <th>1</th>\n",
       "      <td>ok nothing special charge diamond member hilto...</td>\n",
       "      <td>2</td>\n",
       "    </tr>\n",
       "    <tr>\n",
       "      <th>2</th>\n",
       "      <td>nice rooms not 4* experience hotel monaco seat...</td>\n",
       "      <td>3</td>\n",
       "    </tr>\n",
       "    <tr>\n",
       "      <th>3</th>\n",
       "      <td>unique, great stay, wonderful time hotel monac...</td>\n",
       "      <td>5</td>\n",
       "    </tr>\n",
       "    <tr>\n",
       "      <th>4</th>\n",
       "      <td>great stay great stay, went seahawk game aweso...</td>\n",
       "      <td>5</td>\n",
       "    </tr>\n",
       "    <tr>\n",
       "      <th>5</th>\n",
       "      <td>love monaco staff husband stayed hotel crazy w...</td>\n",
       "      <td>5</td>\n",
       "    </tr>\n",
       "    <tr>\n",
       "      <th>6</th>\n",
       "      <td>cozy stay rainy city, husband spent 7 nights m...</td>\n",
       "      <td>5</td>\n",
       "    </tr>\n",
       "    <tr>\n",
       "      <th>7</th>\n",
       "      <td>excellent staff, housekeeping quality hotel ch...</td>\n",
       "      <td>4</td>\n",
       "    </tr>\n",
       "    <tr>\n",
       "      <th>8</th>\n",
       "      <td>hotel stayed hotel monaco cruise, rooms genero...</td>\n",
       "      <td>5</td>\n",
       "    </tr>\n",
       "    <tr>\n",
       "      <th>9</th>\n",
       "      <td>excellent stayed hotel monaco past w/e delight...</td>\n",
       "      <td>5</td>\n",
       "    </tr>\n",
       "  </tbody>\n",
       "</table>\n",
       "</div>"
      ],
      "text/plain": [
       "                                              Review  Rating\n",
       "0  nice hotel expensive parking got good deal sta...       4\n",
       "1  ok nothing special charge diamond member hilto...       2\n",
       "2  nice rooms not 4* experience hotel monaco seat...       3\n",
       "3  unique, great stay, wonderful time hotel monac...       5\n",
       "4  great stay great stay, went seahawk game aweso...       5\n",
       "5  love monaco staff husband stayed hotel crazy w...       5\n",
       "6  cozy stay rainy city, husband spent 7 nights m...       5\n",
       "7  excellent staff, housekeeping quality hotel ch...       4\n",
       "8  hotel stayed hotel monaco cruise, rooms genero...       5\n",
       "9  excellent stayed hotel monaco past w/e delight...       5"
      ]
     },
     "execution_count": 3,
     "metadata": {},
     "output_type": "execute_result"
    }
   ],
   "source": [
    "df.head(10)"
   ]
  },
  {
   "cell_type": "code",
   "execution_count": 4,
   "metadata": {},
   "outputs": [
    {
     "data": {
      "text/plain": [
       "(20491, 2)"
      ]
     },
     "execution_count": 4,
     "metadata": {},
     "output_type": "execute_result"
    }
   ],
   "source": [
    "df.shape"
   ]
  },
  {
   "cell_type": "code",
   "execution_count": 5,
   "metadata": {},
   "outputs": [],
   "source": [
    "df['Sentiment'] = np.select([df['Rating'] > 3, df['Rating'] == 3], [2, 1], 0) #if at least 4/5 -> positive Sentiment, 3 neutral, 1 or 2 -> negative"
   ]
  },
  {
   "cell_type": "code",
   "execution_count": 6,
   "metadata": {},
   "outputs": [
    {
     "data": {
      "text/plain": [
       "0    2\n",
       "1    0\n",
       "2    1\n",
       "3    2\n",
       "4    2\n",
       "5    2\n",
       "6    2\n",
       "7    2\n",
       "8    2\n",
       "9    2\n",
       "Name: Sentiment, dtype: int32"
      ]
     },
     "execution_count": 6,
     "metadata": {},
     "output_type": "execute_result"
    }
   ],
   "source": [
    "df.Sentiment.head(10)"
   ]
  },
  {
   "cell_type": "code",
   "execution_count": 7,
   "metadata": {},
   "outputs": [
    {
     "data": {
      "text/plain": [
       "Sentiment\n",
       "2            15093\n",
       "0             3214\n",
       "1             2184\n",
       "dtype: int64"
      ]
     },
     "execution_count": 7,
     "metadata": {},
     "output_type": "execute_result"
    }
   ],
   "source": [
    "df.value_counts([\"Sentiment\"])"
   ]
  },
  {
   "cell_type": "markdown",
   "metadata": {},
   "source": [
    "Most (approx. 75%) of the reviews are positive (Sentiment = 2), only a small fraction (approx. 10%) is neutral (Sentiment = 1) and a bit more (approx. 15%) are negative (Sentiment = 0)."
   ]
  },
  {
   "cell_type": "markdown",
   "metadata": {},
   "source": [
    "Lets set the review text to lowercase and split the data into a training set and validation set"
   ]
  },
  {
   "cell_type": "code",
   "execution_count": 8,
   "metadata": {},
   "outputs": [],
   "source": [
    "df['Review'] = (df['Review']).str.lower()"
   ]
  },
  {
   "cell_type": "code",
   "execution_count": 9,
   "metadata": {},
   "outputs": [],
   "source": [
    "train, val = train_test_split(df, test_size=0.2, random_state=5, stratify = df[\"Sentiment\"])"
   ]
  },
  {
   "cell_type": "code",
   "execution_count": 10,
   "metadata": {},
   "outputs": [
    {
     "data": {
      "text/html": [
       "<div>\n",
       "<style scoped>\n",
       "    .dataframe tbody tr th:only-of-type {\n",
       "        vertical-align: middle;\n",
       "    }\n",
       "\n",
       "    .dataframe tbody tr th {\n",
       "        vertical-align: top;\n",
       "    }\n",
       "\n",
       "    .dataframe thead th {\n",
       "        text-align: right;\n",
       "    }\n",
       "</style>\n",
       "<table border=\"1\" class=\"dataframe\">\n",
       "  <thead>\n",
       "    <tr style=\"text-align: right;\">\n",
       "      <th></th>\n",
       "      <th>Rating</th>\n",
       "      <th>Sentiment</th>\n",
       "    </tr>\n",
       "  </thead>\n",
       "  <tbody>\n",
       "    <tr>\n",
       "      <th>count</th>\n",
       "      <td>16392.000000</td>\n",
       "      <td>16392.000000</td>\n",
       "    </tr>\n",
       "    <tr>\n",
       "      <th>mean</th>\n",
       "      <td>3.955832</td>\n",
       "      <td>1.579734</td>\n",
       "    </tr>\n",
       "    <tr>\n",
       "      <th>std</th>\n",
       "      <td>1.233766</td>\n",
       "      <td>0.746570</td>\n",
       "    </tr>\n",
       "    <tr>\n",
       "      <th>min</th>\n",
       "      <td>1.000000</td>\n",
       "      <td>0.000000</td>\n",
       "    </tr>\n",
       "    <tr>\n",
       "      <th>25%</th>\n",
       "      <td>3.000000</td>\n",
       "      <td>1.000000</td>\n",
       "    </tr>\n",
       "    <tr>\n",
       "      <th>50%</th>\n",
       "      <td>4.000000</td>\n",
       "      <td>2.000000</td>\n",
       "    </tr>\n",
       "    <tr>\n",
       "      <th>75%</th>\n",
       "      <td>5.000000</td>\n",
       "      <td>2.000000</td>\n",
       "    </tr>\n",
       "    <tr>\n",
       "      <th>max</th>\n",
       "      <td>5.000000</td>\n",
       "      <td>2.000000</td>\n",
       "    </tr>\n",
       "  </tbody>\n",
       "</table>\n",
       "</div>"
      ],
      "text/plain": [
       "             Rating     Sentiment\n",
       "count  16392.000000  16392.000000\n",
       "mean       3.955832      1.579734\n",
       "std        1.233766      0.746570\n",
       "min        1.000000      0.000000\n",
       "25%        3.000000      1.000000\n",
       "50%        4.000000      2.000000\n",
       "75%        5.000000      2.000000\n",
       "max        5.000000      2.000000"
      ]
     },
     "execution_count": 10,
     "metadata": {},
     "output_type": "execute_result"
    }
   ],
   "source": [
    "train.describe()"
   ]
  },
  {
   "cell_type": "markdown",
   "metadata": {},
   "source": [
    "Lets create a feature that counts the length of a review"
   ]
  },
  {
   "cell_type": "code",
   "execution_count": 11,
   "metadata": {},
   "outputs": [],
   "source": [
    "def leng(col):\n",
    "    l=[]\n",
    "    for rew in col:\n",
    "        text = word_tokenize(rew, language='english')\n",
    "        nonPunct = re.compile('.*[A-Za-z0-9].*')  # must contain a letter or digit\n",
    "        filtered = [w for w in text if nonPunct.match(w)]\n",
    "        l.append(len(filtered))\n",
    "    return l"
   ]
  },
  {
   "cell_type": "code",
   "execution_count": 12,
   "metadata": {},
   "outputs": [],
   "source": [
    "train['wordCount'] = leng(train['Review'])\n",
    "\n",
    "#calculate mean and std to rescale the word count to be centered around 0\n",
    "wrdcm = train['wordCount'].mean()\n",
    "wrdcs = train['wordCount'].std()\n",
    "\n",
    "train['scaledwordCount'] = (train['wordCount']-wrdcm)/wrdcs\n",
    "\n",
    "val['wordCount'] = leng(val['Review'])\n",
    "                      \n",
    "val['scaledwordCount'] = (val['wordCount']-wrdcm)/wrdcs"
   ]
  },
  {
   "cell_type": "code",
   "execution_count": 13,
   "metadata": {},
   "outputs": [
    {
     "data": {
      "text/plain": [
       "103.66087115666178"
      ]
     },
     "execution_count": 13,
     "metadata": {},
     "output_type": "execute_result"
    }
   ],
   "source": [
    "wrdcm"
   ]
  },
  {
   "cell_type": "code",
   "execution_count": 14,
   "metadata": {},
   "outputs": [
    {
     "data": {
      "text/html": [
       "<div>\n",
       "<style scoped>\n",
       "    .dataframe tbody tr th:only-of-type {\n",
       "        vertical-align: middle;\n",
       "    }\n",
       "\n",
       "    .dataframe tbody tr th {\n",
       "        vertical-align: top;\n",
       "    }\n",
       "\n",
       "    .dataframe thead th {\n",
       "        text-align: right;\n",
       "    }\n",
       "</style>\n",
       "<table border=\"1\" class=\"dataframe\">\n",
       "  <thead>\n",
       "    <tr style=\"text-align: right;\">\n",
       "      <th></th>\n",
       "      <th>Review</th>\n",
       "      <th>Rating</th>\n",
       "      <th>Sentiment</th>\n",
       "      <th>wordCount</th>\n",
       "      <th>scaledwordCount</th>\n",
       "    </tr>\n",
       "  </thead>\n",
       "  <tbody>\n",
       "    <tr>\n",
       "      <th>14048</th>\n",
       "      <td>best boutique hotel room loved arcotel velvet ...</td>\n",
       "      <td>5</td>\n",
       "      <td>2</td>\n",
       "      <td>110</td>\n",
       "      <td>0.062802</td>\n",
       "    </tr>\n",
       "    <tr>\n",
       "      <th>3022</th>\n",
       "      <td>good value inclusive stayed melia tropical wee...</td>\n",
       "      <td>3</td>\n",
       "      <td>1</td>\n",
       "      <td>607</td>\n",
       "      <td>4.986583</td>\n",
       "    </tr>\n",
       "    <tr>\n",
       "      <th>14060</th>\n",
       "      <td>exceptional hotel, gorgeous hotel quiet area e...</td>\n",
       "      <td>5</td>\n",
       "      <td>2</td>\n",
       "      <td>48</td>\n",
       "      <td>-0.551432</td>\n",
       "    </tr>\n",
       "    <tr>\n",
       "      <th>16302</th>\n",
       "      <td>let-down, elizabeth proved complete opposite s...</td>\n",
       "      <td>1</td>\n",
       "      <td>0</td>\n",
       "      <td>28</td>\n",
       "      <td>-0.749573</td>\n",
       "    </tr>\n",
       "    <tr>\n",
       "      <th>1603</th>\n",
       "      <td>ok expecting money spent 3 nights chancellor h...</td>\n",
       "      <td>3</td>\n",
       "      <td>1</td>\n",
       "      <td>46</td>\n",
       "      <td>-0.571246</td>\n",
       "    </tr>\n",
       "  </tbody>\n",
       "</table>\n",
       "</div>"
      ],
      "text/plain": [
       "                                                  Review  Rating  Sentiment  \\\n",
       "14048  best boutique hotel room loved arcotel velvet ...       5          2   \n",
       "3022   good value inclusive stayed melia tropical wee...       3          1   \n",
       "14060  exceptional hotel, gorgeous hotel quiet area e...       5          2   \n",
       "16302  let-down, elizabeth proved complete opposite s...       1          0   \n",
       "1603   ok expecting money spent 3 nights chancellor h...       3          1   \n",
       "\n",
       "       wordCount  scaledwordCount  \n",
       "14048        110         0.062802  \n",
       "3022         607         4.986583  \n",
       "14060         48        -0.551432  \n",
       "16302         28        -0.749573  \n",
       "1603          46        -0.571246  "
      ]
     },
     "execution_count": 14,
     "metadata": {},
     "output_type": "execute_result"
    }
   ],
   "source": [
    "train.head()"
   ]
  },
  {
   "cell_type": "code",
   "execution_count": 15,
   "metadata": {
    "scrolled": false
   },
   "outputs": [
    {
     "data": {
      "image/png": "[encoded data removed]",
      "text/plain": [
       "<Figure size 576x432 with 1 Axes>"
      ]
     },
     "metadata": {
      "needs_background": "light"
     },
     "output_type": "display_data"
    },
    {
     "data": {
      "image/png": "[encoded data removed]",
      "text/plain": [
       "<Figure size 576x432 with 1 Axes>"
      ]
     },
     "metadata": {
      "needs_background": "light"
     },
     "output_type": "display_data"
    }
   ],
   "source": [
    "plt.figure(figsize=(8,6))\n",
    "sns.histplot(data=train, x=\"wordCount\", hue=\"Sentiment\", alpha=0.5, palette=\"Set2\")\n",
    "plt.show()\n",
    "\n",
    "plt.figure(figsize=(8,6))\n",
    "sns.histplot(data=train, x=\"scaledwordCount\", hue=\"Sentiment\", alpha=0.5, palette=\"Set2\")\n",
    "\n",
    "plt.xlim(-2,5)\n",
    "\n",
    "plt.show()"
   ]
  },
  {
   "cell_type": "markdown",
   "metadata": {},
   "source": [
    "Next extract features from the text. This will be done with a Term Frequency Inverse Document Frequency (Tfidf) vectorizer. We include a custom stopword list which includes word which will be ignored. max_df and min_df are maximal and minimal percentage of reviews in which a word has to be mention to be included. ngram_range controls whether the vectorizer should take phrases consisting of more than 1 word (e.g. 2 words appearing after each other or 3 words)."
   ]
  },
  {
   "cell_type": "code",
   "execution_count": 16,
   "metadata": {},
   "outputs": [],
   "source": [
    "stpwrdlist=['the', 'a']#,'i','a','for','in']\n",
    "vectorizer = TfidfVectorizer(max_df=0.9, min_df=0.005, stop_words=stpwrdlist, ngram_range=(1,3)) #stop_words=stpwrdlist"
   ]
  },
  {
   "cell_type": "code",
   "execution_count": 17,
   "metadata": {},
   "outputs": [],
   "source": [
    "#fit and transform the reviews\n",
    "\n",
    "X = vectorizer.fit_transform(train['Review']) \n",
    "X_val = vectorizer.transform(val['Review'])"
   ]
  },
  {
   "cell_type": "code",
   "execution_count": 18,
   "metadata": {
    "scrolled": false
   },
   "outputs": [],
   "source": [
    "#vectorizer.get_feature_names(); #to see the list of words"
   ]
  },
  {
   "cell_type": "markdown",
   "metadata": {},
   "source": [
    "Lets fit a LogisticRegression model"
   ]
  },
  {
   "cell_type": "code",
   "execution_count": 19,
   "metadata": {},
   "outputs": [],
   "source": [
    "from sklearn.linear_model import LogisticRegression\n",
    "from sklearn.metrics import accuracy_score\n",
    "from scipy import sparse\n",
    "\n",
    "\n",
    "lr = LogisticRegression(multi_class=\"multinomial\")\n",
    "\n",
    "labels = [\"negative\", \"neutral\", \"positive\"]"
   ]
  },
  {
   "cell_type": "markdown",
   "metadata": {},
   "source": [
    "Combine the vectorized texts in X and X_val with scaledwordCount to create final feature matrices"
   ]
  },
  {
   "cell_type": "code",
   "execution_count": 20,
   "metadata": {},
   "outputs": [],
   "source": [
    "X = sparse.hstack((X,np.array(train['scaledwordCount'])[:,None])).A\n",
    "\n",
    "X_val = sparse.hstack((X_val,np.array(val['scaledwordCount'])[:,None])).A"
   ]
  },
  {
   "cell_type": "code",
   "execution_count": 21,
   "metadata": {},
   "outputs": [
    {
     "data": {
      "text/plain": [
       "(16392, 3385)"
      ]
     },
     "execution_count": 21,
     "metadata": {},
     "output_type": "execute_result"
    }
   ],
   "source": [
    "X.shape"
   ]
  },
  {
   "cell_type": "markdown",
   "metadata": {},
   "source": [
    "Fit and check accuracy of LogisticRegression"
   ]
  },
  {
   "cell_type": "code",
   "execution_count": 22,
   "metadata": {},
   "outputs": [
    {
     "data": {
      "text/plain": [
       "LogisticRegression(multi_class='multinomial')"
      ]
     },
     "execution_count": 22,
     "metadata": {},
     "output_type": "execute_result"
    }
   ],
   "source": [
    "lr.fit(X, train['Sentiment'])#np.array(train['wordCount']).reshape(-1, 1), train['Sentiment'])"
   ]
  },
  {
   "cell_type": "code",
   "execution_count": 23,
   "metadata": {},
   "outputs": [
    {
     "name": "stdout",
     "output_type": "stream",
     "text": [
      "0.9018423621278673\n"
     ]
    }
   ],
   "source": [
    "preds = lr.predict(X)#np.array(train['wordCount']).reshape(-1,1))\n",
    "score = accuracy_score(train['Sentiment'], preds)\n",
    "print(score)"
   ]
  },
  {
   "cell_type": "code",
   "execution_count": 24,
   "metadata": {},
   "outputs": [
    {
     "name": "stdout",
     "output_type": "stream",
     "text": [
      "0.8665528177604294\n"
     ]
    }
   ],
   "source": [
    "preds1 = lr.predict(X_val)#np.array(test['wordCount']).reshape(-1,1))#X_val)\n",
    "score = accuracy_score(val['Sentiment'], preds1)\n",
    "print(score)"
   ]
  },
  {
   "cell_type": "markdown",
   "metadata": {},
   "source": [
    "The accuracy seems reasonable, lets check the confusion matrix"
   ]
  },
  {
   "cell_type": "code",
   "execution_count": 25,
   "metadata": {},
   "outputs": [
    {
     "data": {
      "image/png": "[encoded data removed]",
      "text/plain": [
       "<Figure size 720x504 with 2 Axes>"
      ]
     },
     "metadata": {
      "needs_background": "light"
     },
     "output_type": "display_data"
    }
   ],
   "source": [
    "from sklearn.metrics import confusion_matrix\n",
    "\n",
    "\n",
    "\n",
    "cm = confusion_matrix(val[\"Sentiment\"], preds1)\n",
    "\n",
    "plt.figure(figsize = (10,7))\n",
    "sns.heatmap(cm, annot=True, cmap=\"viridis\",fmt='g')\n",
    "plt.ylabel(\"True\")\n",
    "plt.xlabel(\"Predicted\")\n",
    "\n",
    "plt.show()"
   ]
  },
  {
   "cell_type": "markdown",
   "metadata": {},
   "source": [
    "This model struggels mostly with identifying neutral reviews, which is a result of the distribution of labels which mostly included positive reviews. Lets see if we can train a better model."
   ]
  },
  {
   "cell_type": "markdown",
   "metadata": {},
   "source": [
    "Lets train a neural network"
   ]
  },
  {
   "cell_type": "code",
   "execution_count": 26,
   "metadata": {},
   "outputs": [],
   "source": [
    "#import tensorflow as tf\n",
    "from keras.models import Sequential\n",
    "from keras.layers import Dense\n",
    "from keras.callbacks import EarlyStopping"
   ]
  },
  {
   "cell_type": "code",
   "execution_count": 27,
   "metadata": {},
   "outputs": [],
   "source": [
    "model = Sequential()\n",
    "\n",
    "early_stopping_monitor = EarlyStopping(patience=1)\n",
    "\n",
    "model.add(Dense(64, input_shape=(3385,)))\n",
    "model.add(Dense(128, activation=\"tanh\"))\n",
    "model.add(Dense(128, activation=\"tanh\"))\n",
    "model.add(Dense(64, activation=\"tanh\"))\n",
    "\n",
    "model.add(Dense(3, activation='softmax'))"
   ]
  },
  {
   "cell_type": "code",
   "execution_count": 28,
   "metadata": {},
   "outputs": [
    {
     "name": "stdout",
     "output_type": "stream",
     "text": [
      "Model: \"sequential\"\n",
      "_________________________________________________________________\n",
      " Layer (type)                Output Shape              Param #   \n",
      "=================================================================\n",
      " dense (Dense)               (None, 64)                216704    \n",
      "                                                                 \n",
      " dense_1 (Dense)             (None, 128)               8320      \n",
      "                                                                 \n",
      " dense_2 (Dense)             (None, 128)               16512     \n",
      "                                                                 \n",
      " dense_3 (Dense)             (None, 64)                8256      \n",
      "                                                                 \n",
      " dense_4 (Dense)             (None, 3)                 195       \n",
      "                                                                 \n",
      "=================================================================\n",
      "Total params: 249,987\n",
      "Trainable params: 249,987\n",
      "Non-trainable params: 0\n",
      "_________________________________________________________________\n"
     ]
    }
   ],
   "source": [
    "model.summary()"
   ]
  },
  {
   "cell_type": "code",
   "execution_count": 29,
   "metadata": {},
   "outputs": [],
   "source": [
    "opt = tf.keras.optimizers.Adam(0.0001)\n",
    "\n",
    "model.compile(optimizer=opt, loss='categorical_crossentropy', metrics=['accuracy'])"
   ]
  },
  {
   "cell_type": "code",
   "execution_count": 30,
   "metadata": {},
   "outputs": [
    {
     "name": "stdout",
     "output_type": "stream",
     "text": [
      "Epoch 1/12\n",
      "308/308 [==============================] - 3s 7ms/step - loss: 0.6162 - accuracy: 0.7730 - val_loss: 0.3951 - val_accuracy: 0.8500\n",
      "Epoch 2/12\n",
      "308/308 [==============================] - 2s 6ms/step - loss: 0.3424 - accuracy: 0.8631 - val_loss: 0.3627 - val_accuracy: 0.8579\n",
      "Epoch 3/12\n",
      "308/308 [==============================] - 2s 5ms/step - loss: 0.2920 - accuracy: 0.8830 - val_loss: 0.3605 - val_accuracy: 0.8573\n",
      "Epoch 4/12\n",
      "308/308 [==============================] - 2s 6ms/step - loss: 0.2545 - accuracy: 0.8991 - val_loss: 0.3730 - val_accuracy: 0.8567\n"
     ]
    }
   ],
   "source": [
    "h_callback = model.fit(X, pd.get_dummies(train['Sentiment']), validation_split=0.1, epochs=12, batch_size=48,callbacks=[early_stopping_monitor])\n",
    "#validation_data=(X_val, test['Sentiment'])"
   ]
  },
  {
   "cell_type": "code",
   "execution_count": 31,
   "metadata": {},
   "outputs": [
    {
     "data": {
      "image/png": "[encoded data removed]",
      "text/plain": [
       "<Figure size 432x288 with 1 Axes>"
      ]
     },
     "metadata": {
      "needs_background": "light"
     },
     "output_type": "display_data"
    }
   ],
   "source": [
    "plt.plot( h_callback.history['accuracy'])\n",
    "plt.plot( h_callback.history['val_accuracy'])\n",
    "plt.show()"
   ]
  },
  {
   "cell_type": "code",
   "execution_count": 32,
   "metadata": {},
   "outputs": [],
   "source": [
    "predictions = []\n",
    "predictions1 = model.predict(X_val)\n",
    "\n",
    "for i in range(len(X_val)): #.ravel()\n",
    "    predictions.append(np.argmax(predictions1[i]))"
   ]
  },
  {
   "cell_type": "code",
   "execution_count": 33,
   "metadata": {},
   "outputs": [
    {
     "name": "stdout",
     "output_type": "stream",
     "text": [
      "[0.3695077896118164, 0.856550395488739]\n"
     ]
    }
   ],
   "source": [
    "score = model.evaluate(X_val, pd.get_dummies(val['Sentiment']), verbose=0)\n",
    "print(score) #loss, accuracy"
   ]
  },
  {
   "cell_type": "markdown",
   "metadata": {},
   "source": [
    "On first sight, this model has a slightly lower accuracy than the LogisticRegression model. Lets check its confusion matrix"
   ]
  },
  {
   "cell_type": "code",
   "execution_count": 34,
   "metadata": {},
   "outputs": [
    {
     "data": {
      "image/png": "[encoded data removed]",
      "text/plain": [
       "<Figure size 720x504 with 2 Axes>"
      ]
     },
     "metadata": {
      "needs_background": "light"
     },
     "output_type": "display_data"
    }
   ],
   "source": [
    "from sklearn.metrics import confusion_matrix\n",
    "\n",
    "\n",
    "\n",
    "cm = confusion_matrix(val[\"Sentiment\"], predictions)\n",
    "\n",
    "plt.figure(figsize = (10,7))\n",
    "sns.heatmap(cm, annot=True, cmap=\"viridis\",fmt='g')\n",
    "plt.ylabel(\"True\")\n",
    "plt.xlabel(\"Predicted\")\n",
    "\n",
    "plt.show()"
   ]
  },
  {
   "cell_type": "markdown",
   "metadata": {},
   "source": [
    "Compared to the LogisticRegression model, the neural network is slightly more accurate at identifying neutral and negative reviews, but a bit less accurate in finding positive reviews.\n",
    "\n",
    "Therefore, the Logitic Regression model should be better to use on reviews with similiar distribution of reviews as the training data. However if one needs to classify reviews which include more neutral and negative reviews than the neural network should perform better."
   ]
  },
  {
   "cell_type": "markdown",
   "metadata": {},
   "source": [
    "Lets write a function that classifies custom reviews:"
   ]
  },
  {
   "cell_type": "code",
   "execution_count": 35,
   "metadata": {},
   "outputs": [],
   "source": [
    "def lrpredict(rev):\n",
    "    testrew = vectorizer.transform(rev)\n",
    "    testrew = sparse.hstack((testrew,np.array([len(rev)])[:,None])).A\n",
    "    print(\"LogisticRegression predicts: \" , labels[lr.predict(testrew)[0]])\n",
    "    print(lr.predict_proba(testrew))\n",
    "    return None\n",
    "\n",
    "def nnpredict(rev):\n",
    "    testrew = vectorizer.transform(rev)\n",
    "    testrew = sparse.hstack((testrew,np.array([len(rev)])[:,None])).A\n",
    "    print(\"Neural Network predicts: \" , labels[np.argmax([model.predict(testrew)])])\n",
    "    print(model.predict(testrew))\n",
    "    return None"
   ]
  },
  {
   "cell_type": "code",
   "execution_count": 36,
   "metadata": {},
   "outputs": [
    {
     "name": "stdout",
     "output_type": "stream",
     "text": [
      "LogisticRegression predicts:  positive\n",
      "[[0.15099604 0.30409005 0.54491391]]\n",
      "Neural Network predicts:  negative\n",
      "[[0.5717116  0.3837296  0.04455884]]\n",
      "-----------------\n",
      "-----------------\n",
      "LogisticRegression predicts:  positive\n",
      "[[0.42477037 0.09160071 0.48362892]]\n",
      "Neural Network predicts:  negative\n",
      "[[0.7418406  0.23291059 0.02524882]]\n",
      "-----------------\n",
      "-----------------\n",
      "LogisticRegression predicts:  negative\n",
      "[[0.93168788 0.04408669 0.02422544]]\n",
      "Neural Network predicts:  negative\n",
      "[[9.656835e-01 3.423154e-02 8.496272e-05]]\n",
      "-----------------\n",
      "-----------------\n",
      "LogisticRegression predicts:  positive\n",
      "[[0.02750492 0.14821892 0.82427616]]\n",
      "Neural Network predicts:  positive\n",
      "[[0.05291415 0.3357026  0.6113833 ]]\n",
      "-----------------\n",
      "-----------------\n",
      "LogisticRegression predicts:  positive\n",
      "[[0.1516961  0.11713382 0.73117008]]\n",
      "Neural Network predicts:  neutral\n",
      "[[0.15969743 0.4904921  0.34981054]]\n",
      "-----------------\n",
      "-----------------\n"
     ]
    }
   ],
   "source": [
    "custom = [\"mediocre food, high price, excellent location\", \"never again\", \"not great not terrible\", \"excellent location, but high price\", \"can recommend, tasty food and fair price\"]\n",
    "\n",
    "for review in custom:\n",
    "    \n",
    "    txt=[review]\n",
    "\n",
    "    lrpredict(txt)\n",
    "\n",
    "    nnpredict(txt)\n",
    "    print(\"-----------------\")\n",
    "    print(\"-----------------\")"
   ]
  },
  {
   "cell_type": "markdown",
   "metadata": {},
   "source": [
    "To improve the results a pretrained model (Bert) could be used"
   ]
  }
 ],
 "metadata": {
  "kernelspec": {
   "display_name": "Python 3",
   "language": "python",
   "name": "python3"
  },
  "language_info": {
   "codemirror_mode": {
    "name": "ipython",
    "version": 3
   },
   "file_extension": ".py",
   "mimetype": "text/x-python",
   "name": "python",
   "nbconvert_exporter": "python",
   "pygments_lexer": "ipython3",
   "version": "3.8.5"
  }
 },
 "nbformat": 4,
 "nbformat_minor": 4
}
